{
 "cells": [
  {
   "cell_type": "markdown",
   "id": "1eb308ab-f1ff-4683-a42e-87d7a7feaed2",
   "metadata": {},
   "source": [
    "# Data Science Tools and Ecosystem"
   ]
  },
  {
   "cell_type": "markdown",
   "id": "eb992202-420b-452f-8db4-47e38ac62610",
   "metadata": {},
   "source": [
    "In this notebook, Data Science Tools and Ecosystem are summarized."
   ]
  },
  {
   "cell_type": "markdown",
   "id": "831d01e6-c9f0-485e-b6cf-5c8d2ec47105",
   "metadata": {},
   "source": [
    "Some of the popular languages that Data Scientists use are:"
   ]
  },
  {
   "cell_type": "markdown",
   "id": "6e949997-4d7b-4eaf-85ee-86ba64f39e51",
   "metadata": {},
   "source": [
    "1. Python\n",
    "2. R\n",
    "3. SQL \n",
    "4. Java\n",
    "5. Scala \n",
    "6. C++"
   ]
  },
  {
   "cell_type": "markdown",
   "id": "6fabd4f3-416e-4e33-8d98-91c9c2ec2ec0",
   "metadata": {},
   "source": [
    "**Objectives:**\n",
    "- List popular languages for Data Science\n",
    "- Evaluate arithmetic expressions in Python\n",
    "- List Data Science Tools and commonly used libraries"
   ]
  },
  {
   "cell_type": "markdown",
   "id": "9e878420-1296-4c1b-b73e-cb515e337ca9",
   "metadata": {},
   "source": [
    "Some of the commonly used libraries used by Data Scientists include:"
   ]
  },
  {
   "cell_type": "markdown",
   "id": "73aa72c4-e33f-4c5b-b5ce-0eddaf2c92cd",
   "metadata": {},
   "source": [
    "1. Pandas (Python)\n",
    "2. NumPy (Python)\n",
    "3. Matplotlib (Python)\n",
    "4. Vegas (Scala)\n",
    "5. Blg Dl (Scala)\n",
    "6. ggplot2 (R)"
   ]
  },
  {
   "cell_type": "markdown",
   "id": "c37055e7-7f91-4610-ae21-34957e921113",
   "metadata": {},
   "source": [
    "| Data Science Tools |\n",
    "------------------------\n",
    "| MySQL |\n",
    "| Apache Nifi |\n",
    "| Pixie Dust |\n"
   ]
  },
  {
   "cell_type": "markdown",
   "id": "8ece9c1d-a0f1-4f8a-b991-cf2167f5fd1e",
   "metadata": {},
   "source": [
    "### Below are a few examples of evaluating arithmetic expressions in Python"
   ]
  },
  {
   "cell_type": "markdown",
   "id": "7b10111f-9afa-4209-ac67-a7cfb6391878",
   "metadata": {},
   "source": [
    "a = 2\n",
    "b = 5\n",
    "c = a + b"
   ]
  },
  {
   "cell_type": "code",
   "execution_count": 21,
   "id": "f0ebf080-b82e-407e-a65e-ae55ced49adf",
   "metadata": {},
   "outputs": [
    {
     "data": {
      "text/plain": [
       "17"
      ]
     },
     "execution_count": 21,
     "metadata": {},
     "output_type": "execute_result"
    }
   ],
   "source": [
    "# This a simple arithmetic expression to mutiply then add integers\n",
    "(3*4) + 5"
   ]
  },
  {
   "cell_type": "code",
   "execution_count": 25,
   "id": "dd284b71-f15e-4d8a-9b73-b8b4a04d87df",
   "metadata": {},
   "outputs": [
    {
     "name": "stdout",
     "output_type": "stream",
     "text": [
      "3.3333333333333335\n"
     ]
    }
   ],
   "source": [
    "# This will convert 200 minutes to hours by diving by 60\n",
    "h = 200\n",
    "m = h / 60\n",
    "print(m)"
   ]
  },
  {
   "cell_type": "markdown",
   "id": "1dc6a55c-62b2-41d0-bed6-cf33512911b5",
   "metadata": {},
   "source": [
    "## Author\n",
    "Cristiane Shaddai Villafuerte Ruiz"
   ]
  },
  {
   "cell_type": "code",
   "execution_count": null,
   "id": "659eec7d-9159-4807-bf2c-9b00f053cd56",
   "metadata": {},
   "outputs": [],
   "source": []
  }
 ],
 "metadata": {
  "kernelspec": {
   "display_name": "Python 3 (ipykernel)",
   "language": "python",
   "name": "python3"
  },
  "language_info": {
   "codemirror_mode": {
    "name": "ipython",
    "version": 3
   },
   "file_extension": ".py",
   "mimetype": "text/x-python",
   "name": "python",
   "nbconvert_exporter": "python",
   "pygments_lexer": "ipython3",
   "version": "3.12.4"
  }
 },
 "nbformat": 4,
 "nbformat_minor": 5
}
